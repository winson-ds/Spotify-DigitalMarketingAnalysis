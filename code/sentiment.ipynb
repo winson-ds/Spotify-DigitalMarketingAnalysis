{
 "cells": [
  {
   "cell_type": "code",
   "execution_count": 1,
   "id": "77d8dc62",
   "metadata": {},
   "outputs": [],
   "source": [
    "import pandas as pd\n",
    "from sklearn.model_selection import train_test_split\n",
    "from sklearn.feature_extraction import text\n",
    "from sklearn.feature_extraction.text import TfidfVectorizer\n",
    "\n",
    "from sklearn.linear_model import LogisticRegression\n",
    "from sklearn.metrics import classification_report, confusion_matrix\n",
    "\n",
    "import seaborn as sns\n",
    "import matplotlib.pyplot as plt"
   ]
  },
  {
   "cell_type": "code",
   "execution_count": 2,
   "id": "5fb4002e",
   "metadata": {},
   "outputs": [],
   "source": [
    "df = pd.read_csv('../data/cleaned_text.csv')"
   ]
  },
  {
   "cell_type": "code",
   "execution_count": 3,
   "id": "74a7dee2",
   "metadata": {},
   "outputs": [
    {
     "data": {
      "text/html": [
       "<div>\n",
       "<style scoped>\n",
       "    .dataframe tbody tr th:only-of-type {\n",
       "        vertical-align: middle;\n",
       "    }\n",
       "\n",
       "    .dataframe tbody tr th {\n",
       "        vertical-align: top;\n",
       "    }\n",
       "\n",
       "    .dataframe thead th {\n",
       "        text-align: right;\n",
       "    }\n",
       "</style>\n",
       "<table border=\"1\" class=\"dataframe\">\n",
       "  <thead>\n",
       "    <tr style=\"text-align: right;\">\n",
       "      <th></th>\n",
       "      <th>reviewId</th>\n",
       "      <th>content</th>\n",
       "      <th>score</th>\n",
       "      <th>thumbsUpCount</th>\n",
       "      <th>at</th>\n",
       "      <th>appVersion</th>\n",
       "      <th>clean_content</th>\n",
       "      <th>text_length</th>\n",
       "      <th>year_month</th>\n",
       "    </tr>\n",
       "  </thead>\n",
       "  <tbody>\n",
       "    <tr>\n",
       "      <th>0</th>\n",
       "      <td>ad73063f-976a-4905-bc32-d21f9a3221e4</td>\n",
       "      <td>keren</td>\n",
       "      <td>5</td>\n",
       "      <td>0</td>\n",
       "      <td>2025-04-09 13:36:54</td>\n",
       "      <td>9.0.26.632</td>\n",
       "      <td>keren</td>\n",
       "      <td>1</td>\n",
       "      <td>2025-04</td>\n",
       "    </tr>\n",
       "    <tr>\n",
       "      <th>1</th>\n",
       "      <td>8ae8b09d-17dd-402a-a525-b68c61742976</td>\n",
       "      <td>pretty good</td>\n",
       "      <td>5</td>\n",
       "      <td>0</td>\n",
       "      <td>2025-04-09 13:34:58</td>\n",
       "      <td>9.0.32.624</td>\n",
       "      <td>pretty good</td>\n",
       "      <td>2</td>\n",
       "      <td>2025-04</td>\n",
       "    </tr>\n",
       "    <tr>\n",
       "      <th>2</th>\n",
       "      <td>dfa29675-61a2-4cb7-81b2-d14a5f5a7ba0</td>\n",
       "      <td>nice app for music</td>\n",
       "      <td>5</td>\n",
       "      <td>0</td>\n",
       "      <td>2025-04-09 13:32:33</td>\n",
       "      <td>9.0.28.630</td>\n",
       "      <td>nice app for music</td>\n",
       "      <td>4</td>\n",
       "      <td>2025-04</td>\n",
       "    </tr>\n",
       "    <tr>\n",
       "      <th>3</th>\n",
       "      <td>877813e9-a951-49cd-94a4-467a068bae86</td>\n",
       "      <td>Can't log in, using YouTube prime instead</td>\n",
       "      <td>5</td>\n",
       "      <td>0</td>\n",
       "      <td>2025-04-09 13:28:59</td>\n",
       "      <td>9.0.32.624</td>\n",
       "      <td>cant log in using youtube prime instead</td>\n",
       "      <td>7</td>\n",
       "      <td>2025-04</td>\n",
       "    </tr>\n",
       "    <tr>\n",
       "      <th>4</th>\n",
       "      <td>2701ca76-6c08-44e8-b3ae-578efa759d6a</td>\n",
       "      <td>sometimes you people impersonating other artis...</td>\n",
       "      <td>2</td>\n",
       "      <td>0</td>\n",
       "      <td>2025-04-09 13:25:07</td>\n",
       "      <td>NaN</td>\n",
       "      <td>sometimes you people impersonating other artis...</td>\n",
       "      <td>15</td>\n",
       "      <td>2025-04</td>\n",
       "    </tr>\n",
       "  </tbody>\n",
       "</table>\n",
       "</div>"
      ],
      "text/plain": [
       "                               reviewId  \\\n",
       "0  ad73063f-976a-4905-bc32-d21f9a3221e4   \n",
       "1  8ae8b09d-17dd-402a-a525-b68c61742976   \n",
       "2  dfa29675-61a2-4cb7-81b2-d14a5f5a7ba0   \n",
       "3  877813e9-a951-49cd-94a4-467a068bae86   \n",
       "4  2701ca76-6c08-44e8-b3ae-578efa759d6a   \n",
       "\n",
       "                                             content  score  thumbsUpCount  \\\n",
       "0                                              keren      5              0   \n",
       "1                                        pretty good      5              0   \n",
       "2                                 nice app for music      5              0   \n",
       "3          Can't log in, using YouTube prime instead      5              0   \n",
       "4  sometimes you people impersonating other artis...      2              0   \n",
       "\n",
       "                    at  appVersion  \\\n",
       "0  2025-04-09 13:36:54  9.0.26.632   \n",
       "1  2025-04-09 13:34:58  9.0.32.624   \n",
       "2  2025-04-09 13:32:33  9.0.28.630   \n",
       "3  2025-04-09 13:28:59  9.0.32.624   \n",
       "4  2025-04-09 13:25:07         NaN   \n",
       "\n",
       "                                       clean_content  text_length year_month  \n",
       "0                                              keren            1    2025-04  \n",
       "1                                        pretty good            2    2025-04  \n",
       "2                                 nice app for music            4    2025-04  \n",
       "3            cant log in using youtube prime instead            7    2025-04  \n",
       "4  sometimes you people impersonating other artis...           15    2025-04  "
      ]
     },
     "execution_count": 3,
     "metadata": {},
     "output_type": "execute_result"
    }
   ],
   "source": [
    "df.head()"
   ]
  },
  {
   "cell_type": "code",
   "execution_count": 4,
   "id": "ff4b9246",
   "metadata": {},
   "outputs": [],
   "source": [
    "def label_sentiment(score):\n",
    "    if score >= 4:\n",
    "        return 'positive'\n",
    "    elif score <= 2:\n",
    "        return 'negative'\n",
    "    else:\n",
    "        return 'neutral'\n",
    "\n",
    "df['sentiment'] = df['score'].apply(label_sentiment)"
   ]
  },
  {
   "cell_type": "code",
   "execution_count": 5,
   "id": "62033d8f",
   "metadata": {},
   "outputs": [],
   "source": [
    "df_binary = df[df['sentiment'] != 'neutral']"
   ]
  },
  {
   "cell_type": "code",
   "execution_count": 6,
   "id": "d6cf11f0",
   "metadata": {},
   "outputs": [],
   "source": [
    "df_binary = df_binary.drop(columns=['reviewId', 'thumbsUpCount', 'at', 'appVersion', 'content', 'text_length', 'year_month'])"
   ]
  },
  {
   "cell_type": "code",
   "execution_count": 7,
   "id": "2a9c7aa8",
   "metadata": {},
   "outputs": [],
   "source": [
    "df_binary = df_binary.dropna()"
   ]
  },
  {
   "cell_type": "code",
   "execution_count": 8,
   "id": "0262b8b3",
   "metadata": {},
   "outputs": [],
   "source": [
    "X = df_binary['clean_content']\n",
    "y = df_binary['sentiment']\n",
    "\n",
    "X_train, X_temp, y_train, y_temp = train_test_split(X, y, test_size=0.2, stratify=y, random_state=42)\n",
    "\n",
    "X_val, X_test, y_val, y_test = train_test_split(X_temp, y_temp, test_size=0.5, stratify=y_temp, random_state=42)\n"
   ]
  },
  {
   "cell_type": "code",
   "execution_count": 9,
   "id": "c4a8d1f8",
   "metadata": {},
   "outputs": [],
   "source": [
    "custom_stopwords = list(text.ENGLISH_STOP_WORDS.union([\n",
    "    'app', 'spotify', 'music', 'songs', 'song', 'listen', 'just', 'dont', 'want', 'use', 'im', 'listening', 'time'\n",
    "]))"
   ]
  },
  {
   "cell_type": "code",
   "execution_count": 10,
   "id": "e142e6be",
   "metadata": {},
   "outputs": [],
   "source": [
    "vectorizer = TfidfVectorizer(max_features=10000, stop_words=custom_stopwords)\n",
    "X_train_vec = vectorizer.fit_transform(X_train)\n",
    "X_val_vec = vectorizer.transform(X_val)\n",
    "X_test_vec = vectorizer.transform(X_test)"
   ]
  },
  {
   "cell_type": "code",
   "execution_count": 11,
   "id": "16f217d2",
   "metadata": {},
   "outputs": [
    {
     "name": "stdout",
     "output_type": "stream",
     "text": [
      "              precision    recall  f1-score   support\n",
      "\n",
      "    negative       0.89      0.88      0.88     19094\n",
      "    positive       0.92      0.92      0.92     27149\n",
      "\n",
      "    accuracy                           0.90     46243\n",
      "   macro avg       0.90      0.90      0.90     46243\n",
      "weighted avg       0.90      0.90      0.90     46243\n",
      "\n"
     ]
    }
   ],
   "source": [
    "model = LogisticRegression(max_iter=1000)\n",
    "model.fit(X_train_vec, y_train)\n",
    "\n",
    "y_pred = model.predict(X_test_vec)\n",
    "print(classification_report(y_test, y_pred))"
   ]
  },
  {
   "cell_type": "code",
   "execution_count": 12,
   "id": "9dbc4cc8",
   "metadata": {},
   "outputs": [
    {
     "data": {
      "image/png": "[encoded data removed]",
      "text/plain": [
       "<Figure size 640x480 with 2 Axes>"
      ]
     },
     "metadata": {},
     "output_type": "display_data"
    }
   ],
   "source": [
    "cm = confusion_matrix(y_test, y_pred, labels=['positive', 'negative'])\n",
    "\n",
    "sns.heatmap(cm, annot=True, fmt='d', cmap='Blues', xticklabels=['positive', 'negative'], yticklabels=['positive', 'negative'])\n",
    "plt.xlabel('Predicted')\n",
    "plt.ylabel('Actual')\n",
    "plt.title('Confusion Matrix - Sentiment Analysis')\n",
    "plt.show()"
   ]
  }
 ],
 "metadata": {
  "kernelspec": {
   "display_name": "venv",
   "language": "python",
   "name": "python3"
  },
  "language_info": {
   "codemirror_mode": {
    "name": "ipython",
    "version": 3
   },
   "file_extension": ".py",
   "mimetype": "text/x-python",
   "name": "python",
   "nbconvert_exporter": "python",
   "pygments_lexer": "ipython3",
   "version": "3.13.2"
  }
 },
 "nbformat": 4,
 "nbformat_minor": 5
}
