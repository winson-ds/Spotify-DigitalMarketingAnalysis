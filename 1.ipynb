{
 "cells": [
  {
   "cell_type": "code",
   "execution_count": 1,
   "id": "985dc0bb",
   "metadata": {},
   "outputs": [],
   "source": [
    "import pandas as pd"
   ]
  },
  {
   "cell_type": "code",
   "execution_count": 2,
   "id": "7d9085ba",
   "metadata": {},
   "outputs": [],
   "source": [
    "df = pd.read_csv('review_spotify.csv')"
   ]
  },
  {
   "cell_type": "code",
   "execution_count": 3,
   "id": "91ba054f",
   "metadata": {},
   "outputs": [
    {
     "name": "stdout",
     "output_type": "stream",
     "text": [
      "<class 'pandas.core.frame.DataFrame'>\n",
      "RangeIndex: 500000 entries, 0 to 499999\n",
      "Data columns (total 11 columns):\n",
      " #   Column                Non-Null Count   Dtype \n",
      "---  ------                --------------   ----- \n",
      " 0   reviewId              500000 non-null  object\n",
      " 1   userName              500000 non-null  object\n",
      " 2   userImage             500000 non-null  object\n",
      " 3   content               499992 non-null  object\n",
      " 4   score                 500000 non-null  int64 \n",
      " 5   thumbsUpCount         500000 non-null  int64 \n",
      " 6   reviewCreatedVersion  392854 non-null  object\n",
      " 7   at                    500000 non-null  object\n",
      " 8   replyContent          42609 non-null   object\n",
      " 9   repliedAt             42609 non-null   object\n",
      " 10  appVersion            392854 non-null  object\n",
      "dtypes: int64(2), object(9)\n",
      "memory usage: 42.0+ MB\n"
     ]
    }
   ],
   "source": [
    "df.info()"
   ]
  },
  {
   "cell_type": "code",
   "execution_count": null,
   "id": "1933f0b2",
   "metadata": {},
   "outputs": [],
   "source": []
  }
 ],
 "metadata": {
  "kernelspec": {
   "display_name": "Python 3",
   "language": "python",
   "name": "python3"
  },
  "language_info": {
   "codemirror_mode": {
    "name": "ipython",
    "version": 3
   },
   "file_extension": ".py",
   "mimetype": "text/x-python",
   "name": "python",
   "nbconvert_exporter": "python",
   "pygments_lexer": "ipython3",
   "version": "3.10.10"
  }
 },
 "nbformat": 4,
 "nbformat_minor": 5
}
