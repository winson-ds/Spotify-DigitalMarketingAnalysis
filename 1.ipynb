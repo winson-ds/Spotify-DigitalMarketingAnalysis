{
 "cells": [
  {
   "cell_type": "markdown",
   "id": "94b7c227",
   "metadata": {},
   "source": [
    "# Spotify Reviews Analysis"
   ]
  },
  {
   "cell_type": "markdown",
   "id": "e32ccaef",
   "metadata": {},
   "source": [
    "## Importing Library"
   ]
  },
  {
   "cell_type": "code",
   "execution_count": 13,
   "id": "985dc0bb",
   "metadata": {},
   "outputs": [],
   "source": [
    "import pandas as pd\n",
    "import seaborn as sns\n",
    "import matplotlib.pyplot as plt"
   ]
  },
  {
   "cell_type": "markdown",
   "id": "9442d837",
   "metadata": {},
   "source": [
    "## Reading Data"
   ]
  },
  {
   "cell_type": "code",
   "execution_count": 2,
   "id": "7d9085ba",
   "metadata": {},
   "outputs": [],
   "source": [
    "df = pd.read_csv('review_spotify.csv')"
   ]
  },
  {
   "cell_type": "code",
   "execution_count": 3,
   "id": "91ba054f",
   "metadata": {},
   "outputs": [
    {
     "name": "stdout",
     "output_type": "stream",
     "text": [
      "<class 'pandas.core.frame.DataFrame'>\n",
      "RangeIndex: 500000 entries, 0 to 499999\n",
      "Data columns (total 11 columns):\n",
      " #   Column                Non-Null Count   Dtype \n",
      "---  ------                --------------   ----- \n",
      " 0   reviewId              500000 non-null  object\n",
      " 1   userName              500000 non-null  object\n",
      " 2   userImage             500000 non-null  object\n",
      " 3   content               499992 non-null  object\n",
      " 4   score                 500000 non-null  int64 \n",
      " 5   thumbsUpCount         500000 non-null  int64 \n",
      " 6   reviewCreatedVersion  392854 non-null  object\n",
      " 7   at                    500000 non-null  object\n",
      " 8   replyContent          42609 non-null   object\n",
      " 9   repliedAt             42609 non-null   object\n",
      " 10  appVersion            392854 non-null  object\n",
      "dtypes: int64(2), object(9)\n",
      "memory usage: 42.0+ MB\n"
     ]
    }
   ],
   "source": [
    "df.info()"
   ]
  },
  {
   "cell_type": "code",
   "execution_count": 4,
   "id": "1933f0b2",
   "metadata": {},
   "outputs": [
    {
     "data": {
      "text/html": [
       "<div>\n",
       "<style scoped>\n",
       "    .dataframe tbody tr th:only-of-type {\n",
       "        vertical-align: middle;\n",
       "    }\n",
       "\n",
       "    .dataframe tbody tr th {\n",
       "        vertical-align: top;\n",
       "    }\n",
       "\n",
       "    .dataframe thead th {\n",
       "        text-align: right;\n",
       "    }\n",
       "</style>\n",
       "<table border=\"1\" class=\"dataframe\">\n",
       "  <thead>\n",
       "    <tr style=\"text-align: right;\">\n",
       "      <th></th>\n",
       "      <th>reviewId</th>\n",
       "      <th>userName</th>\n",
       "      <th>userImage</th>\n",
       "      <th>content</th>\n",
       "      <th>score</th>\n",
       "      <th>thumbsUpCount</th>\n",
       "      <th>reviewCreatedVersion</th>\n",
       "      <th>at</th>\n",
       "      <th>replyContent</th>\n",
       "      <th>repliedAt</th>\n",
       "      <th>appVersion</th>\n",
       "    </tr>\n",
       "  </thead>\n",
       "  <tbody>\n",
       "    <tr>\n",
       "      <th>340318</th>\n",
       "      <td>e9299b5d-2a34-433c-ba87-e3c08cbde504</td>\n",
       "      <td>A Google user</td>\n",
       "      <td>https://play-lh.googleusercontent.com/EGemoI2N...</td>\n",
       "      <td>A huge selection of music, easy to navigate th...</td>\n",
       "      <td>5</td>\n",
       "      <td>0</td>\n",
       "      <td>8.9.32.624</td>\n",
       "      <td>2024-04-20 22:51:22</td>\n",
       "      <td>NaN</td>\n",
       "      <td>NaN</td>\n",
       "      <td>8.9.32.624</td>\n",
       "    </tr>\n",
       "    <tr>\n",
       "      <th>449985</th>\n",
       "      <td>509eb5b0-c6b9-4dea-8eb7-18530c1b85ce</td>\n",
       "      <td>Abhi</td>\n",
       "      <td>https://play-lh.googleusercontent.com/a-/ALV-U...</td>\n",
       "      <td>Recent changes made me very very frustrated 😑😑😠😠</td>\n",
       "      <td>1</td>\n",
       "      <td>0</td>\n",
       "      <td>8.8.68.565</td>\n",
       "      <td>2023-12-27 19:46:22</td>\n",
       "      <td>NaN</td>\n",
       "      <td>NaN</td>\n",
       "      <td>8.8.68.565</td>\n",
       "    </tr>\n",
       "    <tr>\n",
       "      <th>91271</th>\n",
       "      <td>72d97b82-2137-47e8-9199-58389e0a9c29</td>\n",
       "      <td>A Google user</td>\n",
       "      <td>https://play-lh.googleusercontent.com/EGemoI2N...</td>\n",
       "      <td>I actually normally love Spotify, but uh... On...</td>\n",
       "      <td>2</td>\n",
       "      <td>1</td>\n",
       "      <td>9.0.2.459</td>\n",
       "      <td>2025-01-04 00:35:38</td>\n",
       "      <td>Hi. Have you tried a quick reinstall? If that ...</td>\n",
       "      <td>2025-01-04 02:49:46</td>\n",
       "      <td>9.0.2.459</td>\n",
       "    </tr>\n",
       "    <tr>\n",
       "      <th>145309</th>\n",
       "      <td>a6935aa1-96f8-4ec7-95f0-06727f4f8e54</td>\n",
       "      <td>A Google user</td>\n",
       "      <td>https://play-lh.googleusercontent.com/EGemoI2N...</td>\n",
       "      <td>❤️</td>\n",
       "      <td>5</td>\n",
       "      <td>0</td>\n",
       "      <td>NaN</td>\n",
       "      <td>2024-11-16 10:46:03</td>\n",
       "      <td>NaN</td>\n",
       "      <td>NaN</td>\n",
       "      <td>NaN</td>\n",
       "    </tr>\n",
       "    <tr>\n",
       "      <th>413885</th>\n",
       "      <td>1dbfbf7a-abe0-483d-b933-87867396d927</td>\n",
       "      <td>A Google user</td>\n",
       "      <td>https://play-lh.googleusercontent.com/EGemoI2N...</td>\n",
       "      <td>Mad about money</td>\n",
       "      <td>1</td>\n",
       "      <td>0</td>\n",
       "      <td>8.8.80.599</td>\n",
       "      <td>2024-01-23 16:12:59</td>\n",
       "      <td>NaN</td>\n",
       "      <td>NaN</td>\n",
       "      <td>8.8.80.599</td>\n",
       "    </tr>\n",
       "  </tbody>\n",
       "</table>\n",
       "</div>"
      ],
      "text/plain": [
       "                                    reviewId       userName  \\\n",
       "340318  e9299b5d-2a34-433c-ba87-e3c08cbde504  A Google user   \n",
       "449985  509eb5b0-c6b9-4dea-8eb7-18530c1b85ce           Abhi   \n",
       "91271   72d97b82-2137-47e8-9199-58389e0a9c29  A Google user   \n",
       "145309  a6935aa1-96f8-4ec7-95f0-06727f4f8e54  A Google user   \n",
       "413885  1dbfbf7a-abe0-483d-b933-87867396d927  A Google user   \n",
       "\n",
       "                                                userImage  \\\n",
       "340318  https://play-lh.googleusercontent.com/EGemoI2N...   \n",
       "449985  https://play-lh.googleusercontent.com/a-/ALV-U...   \n",
       "91271   https://play-lh.googleusercontent.com/EGemoI2N...   \n",
       "145309  https://play-lh.googleusercontent.com/EGemoI2N...   \n",
       "413885  https://play-lh.googleusercontent.com/EGemoI2N...   \n",
       "\n",
       "                                                  content  score  \\\n",
       "340318  A huge selection of music, easy to navigate th...      5   \n",
       "449985   Recent changes made me very very frustrated 😑😑😠😠      1   \n",
       "91271   I actually normally love Spotify, but uh... On...      2   \n",
       "145309                                                 ❤️      5   \n",
       "413885                                    Mad about money      1   \n",
       "\n",
       "        thumbsUpCount reviewCreatedVersion                   at  \\\n",
       "340318              0           8.9.32.624  2024-04-20 22:51:22   \n",
       "449985              0           8.8.68.565  2023-12-27 19:46:22   \n",
       "91271               1            9.0.2.459  2025-01-04 00:35:38   \n",
       "145309              0                  NaN  2024-11-16 10:46:03   \n",
       "413885              0           8.8.80.599  2024-01-23 16:12:59   \n",
       "\n",
       "                                             replyContent  \\\n",
       "340318                                                NaN   \n",
       "449985                                                NaN   \n",
       "91271   Hi. Have you tried a quick reinstall? If that ...   \n",
       "145309                                                NaN   \n",
       "413885                                                NaN   \n",
       "\n",
       "                  repliedAt  appVersion  \n",
       "340318                  NaN  8.9.32.624  \n",
       "449985                  NaN  8.8.68.565  \n",
       "91271   2025-01-04 02:49:46   9.0.2.459  \n",
       "145309                  NaN         NaN  \n",
       "413885                  NaN  8.8.80.599  "
      ]
     },
     "execution_count": 4,
     "metadata": {},
     "output_type": "execute_result"
    }
   ],
   "source": [
    "df.sample(5)"
   ]
  },
  {
   "cell_type": "code",
   "execution_count": 5,
   "id": "28e27f2d",
   "metadata": {},
   "outputs": [
    {
     "data": {
      "text/plain": [
       "0"
      ]
     },
     "execution_count": 5,
     "metadata": {},
     "output_type": "execute_result"
    }
   ],
   "source": [
    "df.duplicated().sum()"
   ]
  },
  {
   "cell_type": "code",
   "execution_count": 6,
   "id": "dbde9547",
   "metadata": {},
   "outputs": [
    {
     "data": {
      "text/plain": [
       "reviewId                     0\n",
       "userName                     0\n",
       "userImage                    0\n",
       "content                      8\n",
       "score                        0\n",
       "thumbsUpCount                0\n",
       "reviewCreatedVersion    107146\n",
       "at                           0\n",
       "replyContent            457391\n",
       "repliedAt               457391\n",
       "appVersion              107146\n",
       "dtype: int64"
      ]
     },
     "execution_count": 6,
     "metadata": {},
     "output_type": "execute_result"
    }
   ],
   "source": [
    "df.isnull().sum()"
   ]
  },
  {
   "cell_type": "markdown",
   "id": "4eac2896",
   "metadata": {},
   "source": [
    "#### Changing data type"
   ]
  },
  {
   "cell_type": "code",
   "execution_count": 7,
   "id": "0e1ea2b3",
   "metadata": {},
   "outputs": [],
   "source": [
    "df['at'] = pd.to_datetime(df['at'])"
   ]
  },
  {
   "cell_type": "markdown",
   "id": "6346bfa7",
   "metadata": {},
   "source": [
    "## Preprocessing"
   ]
  },
  {
   "cell_type": "markdown",
   "id": "66154daf",
   "metadata": {},
   "source": [
    "#### Dropping unused columns"
   ]
  },
  {
   "cell_type": "code",
   "execution_count": 8,
   "id": "d18c3424",
   "metadata": {},
   "outputs": [],
   "source": [
    "df = df.drop(columns=['reviewId','userName','userImage','reviewCreatedVersion','replyContent','repliedAt'])"
   ]
  },
  {
   "cell_type": "code",
   "execution_count": 9,
   "id": "23d644d2",
   "metadata": {},
   "outputs": [
    {
     "name": "stdout",
     "output_type": "stream",
     "text": [
      "<class 'pandas.core.frame.DataFrame'>\n",
      "RangeIndex: 500000 entries, 0 to 499999\n",
      "Data columns (total 5 columns):\n",
      " #   Column         Non-Null Count   Dtype         \n",
      "---  ------         --------------   -----         \n",
      " 0   content        499992 non-null  object        \n",
      " 1   score          500000 non-null  int64         \n",
      " 2   thumbsUpCount  500000 non-null  int64         \n",
      " 3   at             500000 non-null  datetime64[ns]\n",
      " 4   appVersion     392854 non-null  object        \n",
      "dtypes: datetime64[ns](1), int64(2), object(2)\n",
      "memory usage: 19.1+ MB\n"
     ]
    }
   ],
   "source": [
    "df.info()"
   ]
  },
  {
   "cell_type": "markdown",
   "id": "88edb6d4",
   "metadata": {},
   "source": [
    "#### Cleaning the appVersion data"
   ]
  },
  {
   "cell_type": "code",
   "execution_count": 10,
   "id": "87535575",
   "metadata": {},
   "outputs": [
    {
     "name": "stdout",
     "output_type": "stream",
     "text": [
      "<class 'pandas.core.frame.DataFrame'>\n",
      "RangeIndex: 500000 entries, 0 to 499999\n",
      "Data columns (total 5 columns):\n",
      " #   Column         Non-Null Count   Dtype         \n",
      "---  ------         --------------   -----         \n",
      " 0   content        499992 non-null  object        \n",
      " 1   score          500000 non-null  int64         \n",
      " 2   thumbsUpCount  500000 non-null  int64         \n",
      " 3   at             500000 non-null  datetime64[ns]\n",
      " 4   appVersion     392854 non-null  object        \n",
      "dtypes: datetime64[ns](1), int64(2), object(2)\n",
      "memory usage: 19.1+ MB\n"
     ]
    }
   ],
   "source": [
    "df.info()"
   ]
  },
  {
   "cell_type": "code",
   "execution_count": 11,
   "id": "8074ec0d",
   "metadata": {},
   "outputs": [],
   "source": [
    "def clean_app_version(val):\n",
    "    if pd.isna(val):\n",
    "        return 'Unknown'\n",
    "    parts = str(val).split('.')\n",
    "    return '.'.join(parts[:3])\n",
    "\n",
    "df['appVersion'] = df['appVersion'].apply(clean_app_version)\n"
   ]
  },
  {
   "cell_type": "code",
   "execution_count": 12,
   "id": "9cf209b8",
   "metadata": {},
   "outputs": [
    {
     "name": "stdout",
     "output_type": "stream",
     "text": [
      "<class 'pandas.core.frame.DataFrame'>\n",
      "RangeIndex: 500000 entries, 0 to 499999\n",
      "Data columns (total 5 columns):\n",
      " #   Column         Non-Null Count   Dtype         \n",
      "---  ------         --------------   -----         \n",
      " 0   content        499992 non-null  object        \n",
      " 1   score          500000 non-null  int64         \n",
      " 2   thumbsUpCount  500000 non-null  int64         \n",
      " 3   at             500000 non-null  datetime64[ns]\n",
      " 4   appVersion     500000 non-null  object        \n",
      "dtypes: datetime64[ns](1), int64(2), object(2)\n",
      "memory usage: 19.1+ MB\n"
     ]
    }
   ],
   "source": [
    "df.info()"
   ]
  },
  {
   "cell_type": "markdown",
   "id": "ef47a6b0",
   "metadata": {},
   "source": [
    "### Viz"
   ]
  },
  {
   "cell_type": "markdown",
   "id": "119d86b0",
   "metadata": {},
   "source": [
    "#### Data Distribution"
   ]
  },
  {
   "cell_type": "code",
   "execution_count": 14,
   "id": "02ae4816",
   "metadata": {},
   "outputs": [
    {
     "data": {
      "image/png": "[encoded data removed]",
      "text/plain": [
       "<Figure size 800x500 with 1 Axes>"
      ]
     },
     "metadata": {},
     "output_type": "display_data"
    }
   ],
   "source": [
    "plt.figure(figsize=(8, 5))\n",
    "sns.countplot(x='score', data=df)\n",
    "plt.title('Score Distribution')\n",
    "plt.xlabel('Score')\n",
    "plt.ylabel('Count')\n",
    "plt.show()"
   ]
  },
  {
   "cell_type": "code",
   "execution_count": 15,
   "id": "2cb1407e",
   "metadata": {},
   "outputs": [
    {
     "data": {
      "image/png": "[encoded data removed]",
      "text/plain": [
       "<Figure size 1000x500 with 1 Axes>"
      ]
     },
     "metadata": {},
     "output_type": "display_data"
    }
   ],
   "source": [
    "top_thumbs = df['thumbsUpCount'].value_counts().nlargest(10)\n",
    "\n",
    "plt.figure(figsize=(10, 5))\n",
    "sns.barplot(x=top_thumbs.index, y=top_thumbs.values)\n",
    "plt.title('Top 10 Most Common Thumbs Up Counts')\n",
    "plt.xlabel('Thumbs Up Count')\n",
    "plt.ylabel('Frequency')\n",
    "plt.show()\n"
   ]
  },
  {
   "cell_type": "code",
   "execution_count": 19,
   "id": "37f5c005",
   "metadata": {},
   "outputs": [
    {
     "data": {
      "text/plain": [
       "0    450251\n",
       "1     28038\n",
       "2      5515\n",
       "3      2325\n",
       "4      1438\n",
       "5      1107\n",
       "6       787\n",
       "7       694\n",
       "8       591\n",
       "9       450\n",
       "Name: thumbsUpCount, dtype: int64"
      ]
     },
     "execution_count": 19,
     "metadata": {},
     "output_type": "execute_result"
    }
   ],
   "source": [
    "top_thumbs"
   ]
  },
  {
   "cell_type": "code",
   "execution_count": null,
   "id": "184fc343",
   "metadata": {},
   "outputs": [],
   "source": []
  }
 ],
 "metadata": {
  "kernelspec": {
   "display_name": "Python 3",
   "language": "python",
   "name": "python3"
  },
  "language_info": {
   "codemirror_mode": {
    "name": "ipython",
    "version": 3
   },
   "file_extension": ".py",
   "mimetype": "text/x-python",
   "name": "python",
   "nbconvert_exporter": "python",
   "pygments_lexer": "ipython3",
   "version": "3.10.10"
  }
 },
 "nbformat": 4,
 "nbformat_minor": 5
}
